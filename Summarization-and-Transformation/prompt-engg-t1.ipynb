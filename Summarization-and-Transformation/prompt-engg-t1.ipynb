{
 "cells": [
  {
   "cell_type": "markdown",
   "metadata": {},
   "source": [
    "<br>\n",
    "@Author: Ayush Prajapati<br>\n",
    "@Date: 14-10-2024<br>\n",
    "@Last Modified by: Ayush Prajapati<br>\n",
    "@Last Modified time: 14-10-2024<br>\n",
    "@Title: Python program to perform Gen AI tasks Summarizing and Transforming using Gemini API<br>"
   ]
  },
  {
   "cell_type": "code",
   "execution_count": 1,
   "metadata": {},
   "outputs": [
    {
     "name": "stdout",
     "output_type": "stream",
     "text": [
      "Defaulting to user installation because normal site-packages is not writeable\n",
      "Requirement already satisfied: google-generativeai in /home/ayush/.local/lib/python3.10/site-packages (0.3.2)\n",
      "Requirement already satisfied: typing-extensions in /home/ayush/.local/lib/python3.10/site-packages (from google-generativeai) (4.7.1)\n",
      "Requirement already satisfied: google-ai-generativelanguage==0.4.0 in /home/ayush/.local/lib/python3.10/site-packages (from google-generativeai) (0.4.0)\n",
      "Requirement already satisfied: tqdm in /home/ayush/.local/lib/python3.10/site-packages (from google-generativeai) (4.66.5)\n",
      "Requirement already satisfied: google-auth in /home/ayush/.local/lib/python3.10/site-packages (from google-generativeai) (2.26.2)\n",
      "Requirement already satisfied: google-api-core in /home/ayush/.local/lib/python3.10/site-packages (from google-generativeai) (2.15.0)\n",
      "Requirement already satisfied: protobuf in /home/ayush/.local/lib/python3.10/site-packages (from google-generativeai) (4.25.2)\n",
      "Requirement already satisfied: proto-plus<2.0.0dev,>=1.22.3 in /home/ayush/.local/lib/python3.10/site-packages (from google-ai-generativelanguage==0.4.0->google-generativeai) (1.23.0)\n",
      "Requirement already satisfied: requests<3.0.0.dev0,>=2.18.0 in /home/ayush/.local/lib/python3.10/site-packages (from google-api-core->google-generativeai) (2.32.3)\n",
      "Requirement already satisfied: googleapis-common-protos<2.0.dev0,>=1.56.2 in /home/ayush/.local/lib/python3.10/site-packages (from google-api-core->google-generativeai) (1.62.0)\n",
      "Requirement already satisfied: pyasn1-modules>=0.2.1 in /home/ayush/.local/lib/python3.10/site-packages (from google-auth->google-generativeai) (0.3.0)\n",
      "Requirement already satisfied: cachetools<6.0,>=2.0.0 in /home/ayush/.local/lib/python3.10/site-packages (from google-auth->google-generativeai) (5.3.2)\n",
      "Requirement already satisfied: rsa<5,>=3.1.4 in /home/ayush/.local/lib/python3.10/site-packages (from google-auth->google-generativeai) (4.9)\n",
      "Requirement already satisfied: grpcio<2.0dev,>=1.33.2 in /home/ayush/.local/lib/python3.10/site-packages (from google-api-core->google-generativeai) (1.60.0)\n",
      "Requirement already satisfied: grpcio-status<2.0.dev0,>=1.33.2 in /home/ayush/.local/lib/python3.10/site-packages (from google-api-core->google-generativeai) (1.60.0)\n",
      "Requirement already satisfied: pyasn1<0.6.0,>=0.4.6 in /home/ayush/.local/lib/python3.10/site-packages (from pyasn1-modules>=0.2.1->google-auth->google-generativeai) (0.5.1)\n",
      "Requirement already satisfied: charset-normalizer<4,>=2 in /home/ayush/.local/lib/python3.10/site-packages (from requests<3.0.0.dev0,>=2.18.0->google-api-core->google-generativeai) (3.2.0)\n",
      "Requirement already satisfied: certifi>=2017.4.17 in /usr/lib/python3/dist-packages (from requests<3.0.0.dev0,>=2.18.0->google-api-core->google-generativeai) (2020.6.20)\n",
      "Requirement already satisfied: urllib3<3,>=1.21.1 in /usr/lib/python3/dist-packages (from requests<3.0.0.dev0,>=2.18.0->google-api-core->google-generativeai) (1.26.5)\n",
      "Requirement already satisfied: idna<4,>=2.5 in /usr/lib/python3/dist-packages (from requests<3.0.0.dev0,>=2.18.0->google-api-core->google-generativeai) (3.3)\n",
      "Note: you may need to restart the kernel to use updated packages.\n"
     ]
    }
   ],
   "source": [
    "%pip install google-generativeai"
   ]
  },
  {
   "cell_type": "markdown",
   "metadata": {},
   "source": [
    "<br> \n",
    "\n",
    "**Importing Libraries**"
   ]
  },
  {
   "cell_type": "code",
   "execution_count": 34,
   "metadata": {},
   "outputs": [],
   "source": [
    "import os\n",
    "from dotenv import load_dotenv\n",
    "import google.generativeai as genai\n",
    "import csv"
   ]
  },
  {
   "cell_type": "markdown",
   "metadata": {},
   "source": [
    "<br> \n",
    "\n",
    "**Loading Env variable**"
   ]
  },
  {
   "cell_type": "code",
   "execution_count": 35,
   "metadata": {},
   "outputs": [
    {
     "data": {
      "text/plain": [
       "True"
      ]
     },
     "execution_count": 35,
     "metadata": {},
     "output_type": "execute_result"
    }
   ],
   "source": [
    "load_dotenv()"
   ]
  },
  {
   "cell_type": "markdown",
   "metadata": {},
   "source": [
    "<br> \n",
    "\n",
    "**Config Gemini AI**"
   ]
  },
  {
   "cell_type": "code",
   "execution_count": 36,
   "metadata": {},
   "outputs": [],
   "source": [
    "genai.configure(api_key=os.getenv('GEMINI_API_KEY'))"
   ]
  },
  {
   "cell_type": "code",
   "execution_count": 37,
   "metadata": {},
   "outputs": [],
   "source": [
    "generation_config = {\n",
    "  \"temperature\": 0.9,\n",
    "  \"top_p\": 0.95,\n",
    "  \"top_k\": 64,\n",
    "  \"max_output_tokens\": 8192,\n",
    "}\n",
    "\n",
    "model = genai.GenerativeModel(\n",
    "  model_name=\"gemini-1.5-flash\",\n",
    "  generation_config=generation_config,\n",
    ")"
   ]
  },
  {
   "cell_type": "code",
   "execution_count": 40,
   "metadata": {},
   "outputs": [],
   "source": [
    "def read_emails(file_path, delimiter=\"---END OF EMAIL---\"):\n",
    "    \"\"\"\n",
    "    Description: \n",
    "        This function reads the email from the text file\n",
    "    Parameters:\n",
    "        file_path: Path of txt file\n",
    "        delimiter: delimiter\n",
    "    Return:\n",
    "        list: list of emails\n",
    "    \"\"\"\n",
    "    with open(file_path, 'r') as file:\n",
    "        emails = file.read().split(delimiter)\n",
    "    return [email.strip() for email in emails if email.strip()]  # Return non-empty emails"
   ]
  },
  {
   "cell_type": "code",
   "execution_count": 41,
   "metadata": {},
   "outputs": [],
   "source": [
    "def extract_email_info(email):\n",
    "    \"\"\"\n",
    "    Description: \n",
    "        This Function extracts sender, receiver, and body from email\n",
    "    Parameters:\n",
    "        email\n",
    "    Return:\n",
    "        sender, receiver, and body (str)\n",
    "    \"\"\"\n",
    "    lines = email.split(\"\\n\")\n",
    "    sender = receiver = body = \"\"\n",
    "    \n",
    "    for line in lines:\n",
    "        if line.startswith(\"From:\"):\n",
    "            sender = line.split(\":\")[1].strip()\n",
    "        elif line.startswith(\"To:\"):\n",
    "            receiver = line.split(\":\")[1].strip()\n",
    "        elif not line.startswith(\"Subject:\") and not line.startswith(\"From:\") and not line.startswith(\"To:\"):\n",
    "            body += line.strip() + \" \"\n",
    "    \n",
    "    return sender, receiver, body.strip()"
   ]
  },
  {
   "cell_type": "markdown",
   "metadata": {},
   "source": [
    "<br> \n",
    "\n",
    "**Summarizing Task**"
   ]
  },
  {
   "cell_type": "code",
   "execution_count": 42,
   "metadata": {},
   "outputs": [],
   "source": [
    "def summarize_email(body, chat_session):\n",
    "    \"\"\"\n",
    "    Description: \n",
    "        This Function summarizes email body using the Gemini model\n",
    "    Parameters:\n",
    "        body: body of email\n",
    "        chat_session: gemini ai chat session\n",
    "    Return:\n",
    "        response(str): summarized response\n",
    "    \"\"\"\n",
    "    response = chat_session.send_message(f\"Summarize the following email: {body}\")\n",
    "    return response.text"
   ]
  },
  {
   "cell_type": "markdown",
   "metadata": {},
   "source": [
    "<br> \n",
    "\n",
    "**Translation Task**"
   ]
  },
  {
   "cell_type": "code",
   "execution_count": 47,
   "metadata": {},
   "outputs": [
    {
     "name": "stdout",
     "output_type": "stream",
     "text": [
      "\n"
     ]
    }
   ],
   "source": [
    "def translate_email(text, chat_session):\n",
    "    \"\"\"\n",
    "    Description: \n",
    "        This Function translates text using the Gemini model\n",
    "    Parameters:\n",
    "        body: body of email\n",
    "        chat_session: gemini ai chat session\n",
    "    Return:\n",
    "        response(str): summarized response\n",
    "    \"\"\"\n",
    "    response = chat_session.send_message(f\"Translate the following text to German: {text}\")\n",
    "    return response.text"
   ]
  },
  {
   "cell_type": "code",
   "execution_count": 43,
   "metadata": {},
   "outputs": [],
   "source": [
    "def save_to_csv(data, csv_file):\n",
    "    \"\"\"\n",
    "    Description: \n",
    "        This function save the response in csv file\n",
    "    Parameters:\n",
    "        data: data to be saved in csv\n",
    "        csv_file: csv file name/path\n",
    "    \"\"\"\n",
    "    with open(csv_file, 'w', newline='', encoding='utf-8') as file:\n",
    "        writer = csv.writer(file)\n",
    "        writer.writerow([\"Sender\", \"Receiver\", \"Summary (EN)\", \"Summary (DE)\"])\n",
    "        writer.writerows(data)"
   ]
  },
  {
   "cell_type": "code",
   "execution_count": 1,
   "metadata": {},
   "outputs": [],
   "source": [
    "def process_emails(file_path, csv_file, chat_session, delimiter=\"---END OF EMAIL---\"):\n",
    "    \"\"\"\n",
    "    Description: \n",
    "        This function processes the email \n",
    "    Parameters:\n",
    "        file_path: file of email texts\n",
    "        csv_file: name/path of csv file\n",
    "        chat_session: gemini ai chat session\n",
    "    Return:\n",
    "        response(str): summarized response\n",
    "    \"\"\"\n",
    "    emails = read_emails(file_path, delimiter)\n",
    "    data = []\n",
    "\n",
    "    for email in emails:\n",
    "        sender, receiver, body = extract_email_info(email)\n",
    "        summary_en = summarize_email(body, chat_session)\n",
    "        summary_de = translate_email(summary_en, chat_session)\n",
    "        data.append([sender, receiver, summary_en, summary_de])\n",
    "    \n",
    "    save_to_csv(data, csv_file)\n"
   ]
  },
  {
   "cell_type": "code",
   "execution_count": 46,
   "metadata": {},
   "outputs": [],
   "source": [
    "def main():\n",
    "    chat_session = model.start_chat(\n",
    "        history=[]\n",
    "    )\n",
    "    process_emails('mails.txt', 'processed_emails.csv', chat_session)\n",
    "\n",
    "\n",
    "if __name__ == '__main__':\n",
    "    main()"
   ]
  }
 ],
 "metadata": {
  "kernelspec": {
   "display_name": "Python 3",
   "language": "python",
   "name": "python3"
  },
  "language_info": {
   "codemirror_mode": {
    "name": "ipython",
    "version": 3
   },
   "file_extension": ".py",
   "mimetype": "text/x-python",
   "name": "python",
   "nbconvert_exporter": "python",
   "pygments_lexer": "ipython3",
   "version": "3.10.12"
  }
 },
 "nbformat": 4,
 "nbformat_minor": 2
}
