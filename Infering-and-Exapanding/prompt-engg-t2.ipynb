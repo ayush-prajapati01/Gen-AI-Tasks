{
 "cells": [
  {
   "cell_type": "markdown",
   "metadata": {},
   "source": [
    "<br>\n",
    "@Author: Ayush Prajapati<br>\n",
    "@Date: 14-10-2024<br>\n",
    "@Last Modified by: Ayush Prajapati<br>\n",
    "@Last Modified time: 14-10-2024<br>\n",
    "@Title: Python program to perform Gen AI tasks Infering and Expaning using Gemini API<br>"
   ]
  },
  {
   "cell_type": "code",
   "execution_count": 1,
   "metadata": {},
   "outputs": [
    {
     "name": "stdout",
     "output_type": "stream",
     "text": [
      "Defaulting to user installation because normal site-packages is not writeable\n",
      "Requirement already satisfied: google-generativeai in /home/ayush/.local/lib/python3.10/site-packages (0.3.2)\n",
      "Requirement already satisfied: tqdm in /home/ayush/.local/lib/python3.10/site-packages (from google-generativeai) (4.66.5)\n",
      "Requirement already satisfied: google-ai-generativelanguage==0.4.0 in /home/ayush/.local/lib/python3.10/site-packages (from google-generativeai) (0.4.0)\n",
      "Requirement already satisfied: google-api-core in /home/ayush/.local/lib/python3.10/site-packages (from google-generativeai) (2.15.0)\n",
      "Requirement already satisfied: protobuf in /home/ayush/.local/lib/python3.10/site-packages (from google-generativeai) (4.25.2)\n",
      "Requirement already satisfied: google-auth in /home/ayush/.local/lib/python3.10/site-packages (from google-generativeai) (2.26.2)\n",
      "Requirement already satisfied: typing-extensions in /home/ayush/.local/lib/python3.10/site-packages (from google-generativeai) (4.7.1)\n",
      "Requirement already satisfied: proto-plus<2.0.0dev,>=1.22.3 in /home/ayush/.local/lib/python3.10/site-packages (from google-ai-generativelanguage==0.4.0->google-generativeai) (1.23.0)\n",
      "Requirement already satisfied: requests<3.0.0.dev0,>=2.18.0 in /home/ayush/.local/lib/python3.10/site-packages (from google-api-core->google-generativeai) (2.32.3)\n",
      "Requirement already satisfied: googleapis-common-protos<2.0.dev0,>=1.56.2 in /home/ayush/.local/lib/python3.10/site-packages (from google-api-core->google-generativeai) (1.62.0)\n",
      "Requirement already satisfied: rsa<5,>=3.1.4 in /home/ayush/.local/lib/python3.10/site-packages (from google-auth->google-generativeai) (4.9)\n",
      "Requirement already satisfied: pyasn1-modules>=0.2.1 in /home/ayush/.local/lib/python3.10/site-packages (from google-auth->google-generativeai) (0.3.0)\n",
      "Requirement already satisfied: cachetools<6.0,>=2.0.0 in /home/ayush/.local/lib/python3.10/site-packages (from google-auth->google-generativeai) (5.3.2)\n",
      "Requirement already satisfied: grpcio<2.0dev,>=1.33.2 in /home/ayush/.local/lib/python3.10/site-packages (from google-api-core->google-generativeai) (1.60.0)\n",
      "Requirement already satisfied: grpcio-status<2.0.dev0,>=1.33.2 in /home/ayush/.local/lib/python3.10/site-packages (from google-api-core->google-generativeai) (1.60.0)\n",
      "Requirement already satisfied: pyasn1<0.6.0,>=0.4.6 in /home/ayush/.local/lib/python3.10/site-packages (from pyasn1-modules>=0.2.1->google-auth->google-generativeai) (0.5.1)\n",
      "Requirement already satisfied: certifi>=2017.4.17 in /usr/lib/python3/dist-packages (from requests<3.0.0.dev0,>=2.18.0->google-api-core->google-generativeai) (2020.6.20)\n",
      "Requirement already satisfied: urllib3<3,>=1.21.1 in /usr/lib/python3/dist-packages (from requests<3.0.0.dev0,>=2.18.0->google-api-core->google-generativeai) (1.26.5)\n",
      "Requirement already satisfied: charset-normalizer<4,>=2 in /home/ayush/.local/lib/python3.10/site-packages (from requests<3.0.0.dev0,>=2.18.0->google-api-core->google-generativeai) (3.2.0)\n",
      "Requirement already satisfied: idna<4,>=2.5 in /usr/lib/python3/dist-packages (from requests<3.0.0.dev0,>=2.18.0->google-api-core->google-generativeai) (3.3)\n",
      "Note: you may need to restart the kernel to use updated packages.\n"
     ]
    }
   ],
   "source": [
    "%pip install google-generativeai"
   ]
  },
  {
   "cell_type": "markdown",
   "metadata": {},
   "source": [
    "<br> \n",
    "\n",
    "**Importing Libraries**"
   ]
  },
  {
   "cell_type": "code",
   "execution_count": 1,
   "metadata": {},
   "outputs": [],
   "source": [
    "import os\n",
    "from dotenv import load_dotenv\n",
    "import google.generativeai as genai\n",
    "import csv\n",
    "import time"
   ]
  },
  {
   "cell_type": "markdown",
   "metadata": {},
   "source": [
    "<br> \n",
    "\n",
    "**Loading Env variable**"
   ]
  },
  {
   "cell_type": "code",
   "execution_count": 2,
   "metadata": {},
   "outputs": [
    {
     "data": {
      "text/plain": [
       "True"
      ]
     },
     "execution_count": 2,
     "metadata": {},
     "output_type": "execute_result"
    }
   ],
   "source": [
    "load_dotenv()"
   ]
  },
  {
   "cell_type": "markdown",
   "metadata": {},
   "source": [
    "<br> \n",
    "\n",
    "**Config Gemini AI**"
   ]
  },
  {
   "cell_type": "code",
   "execution_count": 3,
   "metadata": {},
   "outputs": [],
   "source": [
    "genai.configure(api_key=os.getenv('GEMINI_API_KEY'))"
   ]
  },
  {
   "cell_type": "code",
   "execution_count": 4,
   "metadata": {},
   "outputs": [],
   "source": [
    "generation_config = {\n",
    "  \"temperature\": 0.9,\n",
    "  \"top_p\": 0.95,\n",
    "  \"top_k\": 64,\n",
    "  \"max_output_tokens\": 8192,\n",
    "}\n",
    "\n",
    "model = genai.GenerativeModel(\n",
    "  model_name=\"gemini-1.5-flash\",\n",
    "  generation_config=generation_config,\n",
    ")"
   ]
  },
  {
   "cell_type": "code",
   "execution_count": 5,
   "metadata": {},
   "outputs": [],
   "source": [
    "def read_reviews(file_path, delimiter=\"---END OF REVIEW---\"):\n",
    "    \"\"\"\n",
    "    Description: \n",
    "        This function reads the c from the text file\n",
    "    Parameters:\n",
    "        file_path: Path of txt file\n",
    "        delimiter: delimiter\n",
    "    Return:\n",
    "        list: list of reviews\n",
    "    \"\"\"\n",
    "    with open(file_path, 'r') as file:\n",
    "            reviews = file.read().split(delimiter)\n",
    "    return [review.strip() for review in reviews if review.strip()]"
   ]
  },
  {
   "cell_type": "code",
   "execution_count": 6,
   "metadata": {},
   "outputs": [],
   "source": [
    "def extract_review_info(review):\n",
    "    \"\"\"\n",
    "    Description: \n",
    "        This function extracts product name, and body from review\n",
    "    Parameters:\n",
    "        review: review body\n",
    "    Return:\n",
    "        product, review_text (str)\n",
    "    \"\"\"\n",
    "    lines = review.split(\"\\n\")\n",
    "    product = \"\"\n",
    "    review_text = \"\"\n",
    "\n",
    "    for line in lines:\n",
    "        if line.startswith(\"Product:\"):\n",
    "            product = line.split(\":\")[1].strip()\n",
    "        elif line.startswith(\"Review:\"):\n",
    "            review_text = line.split(\":\")[1].strip()\n",
    "    \n",
    "    return product, review_text"
   ]
  },
  {
   "cell_type": "markdown",
   "metadata": {},
   "source": [
    "<br> \n",
    "\n",
    "**Infering and Expanding Task**"
   ]
  },
  {
   "cell_type": "code",
   "execution_count": 7,
   "metadata": {},
   "outputs": [],
   "source": [
    "def analyze_sentiment(review_text, chat_session):\n",
    "    \"\"\"\n",
    "    Description: \n",
    "        This function analyze review sentiment and gives proper reply\n",
    "    Parameters:\n",
    "        review_text: review body\n",
    "        chat_session: gemini ai chat session\n",
    "    Return:\n",
    "        sentiment, reply (str)\n",
    "    \"\"\"\n",
    "    # Ask Gemini to categorize the sentiment of the review\n",
    "    sentiment_response = chat_session.send_message(f\"Categorize the sentiment in one word of this review in Postive/Negative/Neutral: {review_text}\")\n",
    "    sentiment = sentiment_response.text.lower()\n",
    "\n",
    "    # Determine reply based on sentiment\n",
    "    reply = chat_session.send_message(f\"Add a 40 words reply to this review: {review_text} as per sentiment {sentiment}\")\n",
    "    reply = reply.text\n",
    "\n",
    "    return sentiment, reply"
   ]
  },
  {
   "cell_type": "code",
   "execution_count": 8,
   "metadata": {},
   "outputs": [],
   "source": [
    "def guess_product(review_text, chat_session):\n",
    "    \"\"\"\n",
    "    Description: \n",
    "        This function guesses the product category based on the review text\n",
    "    Parameters:\n",
    "        review_text: review body\n",
    "        chat_session: gemini ai chat session\n",
    "    Return:\n",
    "        product_response (str)\n",
    "    \"\"\"\n",
    "    # Ask Gemini to guess the product category based on the review text\n",
    "    product_response = chat_session.send_message(f\"Guess the product name based on this review in one word: {review_text}\")\n",
    "    return product_response.text.strip()"
   ]
  },
  {
   "cell_type": "code",
   "execution_count": 9,
   "metadata": {},
   "outputs": [],
   "source": [
    "def save_to_csv(data, csv_file):\n",
    "    \"\"\"\n",
    "    Description: \n",
    "        This function save the response in csv file\n",
    "    Parameters:\n",
    "        data: data to be saved in csv\n",
    "        csv_file: csv file name/path\n",
    "    \"\"\"\n",
    "    with open(csv_file, 'w', newline='', encoding='utf-8') as file:\n",
    "        writer = csv.writer(file)\n",
    "        writer.writerow([\"Original Product\", \"Guessed Product\", \"Review\", \"Sentiment\", \"Reply\"])  # CSV header\n",
    "        writer.writerows(data)"
   ]
  },
  {
   "cell_type": "code",
   "execution_count": 10,
   "metadata": {},
   "outputs": [],
   "source": [
    "def process_reviews(file_path, csv_file, chat_session, delimiter=\"---END OF REVIEW---\"):\n",
    "    \"\"\"\n",
    "    Description: \n",
    "        This Function processes the review\n",
    "    Parameters:\n",
    "        file_path: file path of txt file\n",
    "        csv_file: csv file path\n",
    "        chat_session: gemini ai chat session \n",
    "    \"\"\"\n",
    "    reviews = read_reviews(file_path, delimiter)\n",
    "    data = []\n",
    "\n",
    "    for review in reviews:\n",
    "        original_product, review_text = extract_review_info(review)\n",
    "        guessed_product = guess_product(review_text, chat_session)\n",
    "\n",
    "        sentiment, reply = analyze_sentiment(review_text, chat_session)\n",
    "        data.append([original_product, guessed_product, review_text, sentiment, reply])\n",
    "        time.sleep(5)\n",
    "    \n",
    "    save_to_csv(data, csv_file)"
   ]
  },
  {
   "cell_type": "code",
   "execution_count": 11,
   "metadata": {},
   "outputs": [],
   "source": [
    "def main():\n",
    "    chat_session = model.start_chat(\n",
    "        history=[]\n",
    "    )\n",
    "\n",
    "    process_reviews('reviews.txt', 'processed_reviews.csv', chat_session)\n",
    "\n",
    "\n",
    "if __name__ == '__main__':\n",
    "    main()"
   ]
  }
 ],
 "metadata": {
  "kernelspec": {
   "display_name": "Python 3",
   "language": "python",
   "name": "python3"
  },
  "language_info": {
   "codemirror_mode": {
    "name": "ipython",
    "version": 3
   },
   "file_extension": ".py",
   "mimetype": "text/x-python",
   "name": "python",
   "nbconvert_exporter": "python",
   "pygments_lexer": "ipython3",
   "version": "3.10.12"
  }
 },
 "nbformat": 4,
 "nbformat_minor": 2
}
